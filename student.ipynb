{
 "cells": [
  {
   "cell_type": "markdown",
   "metadata": {},
   "source": [
    "## Final Project Submission\n",
    "\n",
    "Please fill out:\n",
    "* Student name: Esther Terry Munene\n",
    "* Student pace: full time\n",
    "* Scheduled project review date/time: march 22nd 2024\n",
    "* Instructor name: MaryAnne Mwikali\n",
    "* Blog post URL: N/A\n"
   ]
  },
  {
   "cell_type": "markdown",
   "metadata": {},
   "source": [
    "Microsoft's New Movie Studios"
   ]
  },
  {
   "cell_type": "markdown",
   "metadata": {},
   "source": [
    " 1.Introduction\n",
    " \n",
    " Overview of the project\n",
    " "
   ]
  },
  {
   "cell_type": "code",
   "execution_count": 4,
   "metadata": {},
   "outputs": [],
   "source": [
    "# Your code here - remember to use markdown cells for comments as well!\n",
    "#importing libraries\n",
    "import pandas as pd\n",
    "import sqlite3\n",
    "import csv\n",
    "import numpy as np\n",
    "from datetime import datetime\n"
   ]
  },
  {
   "cell_type": "code",
   "execution_count": 5,
   "metadata": {},
   "outputs": [],
   "source": [
    "# importing data visualisation tools \n",
    "import matplotlib.pyplot as plt\n",
    "import seaborn as sns\n",
    "\n",
    "%matplotlib inline\n"
   ]
  },
  {
   "cell_type": "markdown",
   "metadata": {},
   "source": [
    "Loading the data\n",
    "\n",
    "Now is time to start working with the  movie datasets stored in the 'ZippedData' folder. We will simply run the cell below to import the tables from the database as DataFrames.\n",
    "movies_budget = pd.read_csv('zippedData/tn.movie_budgets.csv')\n",
    "movies_gross = pd.read_csv('zippedData/bom.movie_gross.csv')\n",
    "tmd = pd.read_csv('zippedData/tmdb.movies.csv',index_col=0)\n",
    "reviews = pd.read_csv('zippedData/rt.reviews.tsv', delimiter='\\t',encoding='unicode_escape')\n",
    "conn = sqlite3.connect('zippedData/im.db')\n",
    "movie_info = pd.read_csv('zippedData/rt.movie_info.tsv', delimiter ='\\t', encoding='unicode_escape' )\n",
    "\n",
    "\n"
   ]
  },
  {
   "cell_type": "markdown",
   "metadata": {},
   "source": [
    "Exploring Datasets\n",
    "Number Dataset\n",
    "The Numbers dataset gives us information on the budget and returns.\n",
    "\n"
   ]
  },
  {
   "cell_type": "code",
   "execution_count": null,
   "metadata": {},
   "outputs": [],
   "source": [
    "#load data from tn.movie_budgets.csv into a dataframe\n",
    "movies_budget = pd.read_csv('zippedData/tn.movie_budgets.csv')\n",
    "\n",
    "#cast to numeric data type\n",
    "movies_budget['production_budget'] = movies_budget['production_budget'].replace('[^.0-9]', '', regex=True).astype('float32')\n",
    "movies_budget['domestic_gross'] = movies_budget['domestic_gross'].replace('[^.0-9]', '', regex=True).astype('float32')\n",
    "movies_budget['worldwide_gross'] = movies_budget['worldwide_gross'].replace('[^.0-9]', '',regex = True).astype('float64')\n",
    "movies_budget.head(5)\n",
    "\n",
    "\n",
    "\n"
   ]
  }
 ],
 "metadata": {
  "kernelspec": {
   "display_name": "Python (learn-env)",
   "language": "python",
   "name": "learn-env"
  },
  "language_info": {
   "codemirror_mode": {
    "name": "ipython",
    "version": 3
   },
   "file_extension": ".py",
   "mimetype": "text/x-python",
   "name": "python",
   "nbconvert_exporter": "python",
   "pygments_lexer": "ipython3",
   "version": "3.8.5"
  }
 },
 "nbformat": 4,
 "nbformat_minor": 2
}
